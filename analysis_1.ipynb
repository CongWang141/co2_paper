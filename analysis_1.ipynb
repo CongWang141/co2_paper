{
 "cells": [
  {
   "cell_type": "code",
   "execution_count": 1,
   "metadata": {},
   "outputs": [],
   "source": [
    "import pandas as pd\n",
    "import numpy as np\n",
    "import statsmodels.api as sm\n",
    "from linearmodels import PanelOLS\n",
    "from pystout import pystout"
   ]
  },
  {
   "cell_type": "code",
   "execution_count": 2,
   "metadata": {},
   "outputs": [],
   "source": [
    "# load data\n",
    "df = pd.read_csv(\"data/data_win.csv\")\n",
    "\n",
    "df = df[(df.year_month > '2001-12') & (df.year_month < '2022-01')]"
   ]
  },
  {
   "cell_type": "markdown",
   "metadata": {},
   "source": [
    "## 1. Green-Brown Portfolio"
   ]
  },
  {
   "cell_type": "code",
   "execution_count": 3,
   "metadata": {},
   "outputs": [],
   "source": [
    "# construct greeness with co2_total\n",
    "df['greenness_1'] = df.groupby('year_month')['Co2_tot'].transform(lambda x: pd.qcut(x, q=3, labels=range(1,4)))\n",
    "\n",
    "# compute weights\n",
    "df['mc_sum_1'] = df.groupby(['year_month', 'greenness_1']).Marketcap.transform('sum')\n",
    "df['weights_1'] = df.Marketcap / df.mc_sum_1\n",
    "\n",
    "# value weighted returns\n",
    "df['vw_return_1'] = df.RET * df.weights_1\n",
    "\n",
    "# value weighted return for portfolios with different greenness\n",
    "vw_return_1 = df.groupby(['year_month', 'greenness_1'])['vw_return_1'].sum().to_frame().reset_index()\n",
    "\n",
    "# pivot to wide data\n",
    "vw_return_1_wide = vw_return_1.pivot(index='year_month', columns='greenness_1', values='vw_return_1').reset_index()\n",
    "\n",
    "vw_return_1_wide.columns = ['year_month', 'Green', 'netural_1', 'Brown']\n",
    "\n",
    "# green-brown portfolio\n",
    "vw_return_1_wide['Green_Brown'] = vw_return_1_wide['Green'] - vw_return_1_wide['Brown']\n",
    "\n",
    "# load data\n",
    "index_ = pd.read_csv('data/raw_data/index.csv')\n",
    "index_['year_month'] = pd.PeriodIndex(index_.year_month, freq='M').astype(str)\n",
    "\n",
    "# merge data\n",
    "green_brown_1 = pd.merge(vw_return_1_wide, index_, how='inner')"
   ]
  },
  {
   "cell_type": "code",
   "execution_count": 4,
   "metadata": {},
   "outputs": [],
   "source": [
    "# construct greeness with intensity\n",
    "df['greenness_2'] = df.groupby('year_month')['Intensity_tot'].transform(lambda x: pd.qcut(x, q=3, labels=range(1,4)))\n",
    "\n",
    "# compute weights\n",
    "df['mc_sum_2'] = df.groupby(['year_month', 'greenness_2']).Marketcap.transform('sum')\n",
    "df['weights_2'] = df.Marketcap / df.mc_sum_2\n",
    "\n",
    "# value weighted returns\n",
    "df['vw_return_2'] = df.RET * df.weights_2\n",
    "\n",
    "# value weighted return for portfolios with different greenness\n",
    "vw_return_2 = df.groupby(['year_month', 'greenness_2'])['vw_return_2'].sum().to_frame().reset_index()\n",
    "\n",
    "# pivot to wide data\n",
    "vw_return_2_wide = vw_return_2.pivot(index='year_month', columns='greenness_2', values='vw_return_2').reset_index()\n",
    "\n",
    "vw_return_2_wide.columns = ['year_month', 'Green', 'netural', 'Brown']\n",
    "\n",
    "# green-brown portfolio\n",
    "vw_return_2_wide['Green_Brown'] = vw_return_2_wide['Green'] - vw_return_2_wide['Brown']\n",
    "\n",
    "# merge data\n",
    "green_brown_2 = pd.merge(vw_return_2_wide, index_, how='inner')"
   ]
  },
  {
   "cell_type": "code",
   "execution_count": 5,
   "metadata": {},
   "outputs": [],
   "source": [
    "# green-brown based on CO2 emission\n",
    "# model 1 with only intercept\n",
    "model1 = sm.OLS.from_formula('Green_Brown ~ 1', data=green_brown_1)\n",
    "fit1 = model1.fit()\n",
    "\n",
    "# model 2 with ff3 factors\n",
    "model2 = sm.OLS.from_formula('Green_Brown ~ 1 + Mkt_RF + SMB + HML', data=green_brown_1)\n",
    "fit2 = model2.fit()\n",
    "\n",
    "# model 3 with ff5 factors\n",
    "model3 = sm.OLS.from_formula('Green_Brown ~ 1 + Mkt_RF + SMB + HML + RMW + CMA', data=green_brown_1)\n",
    "fit3 = model3.fit()\n",
    "\n",
    "# green-brown based on Intensity\n",
    "# model 4 with only intercept\n",
    "model4 = sm.OLS.from_formula('Green_Brown ~ 1', data=green_brown_2)\n",
    "fit4 = model4.fit()\n",
    "\n",
    "# model 5 with ff3 factors\n",
    "model5 = sm.OLS.from_formula('Green_Brown ~ 1 + Mkt_RF + SMB + HML', data=green_brown_2)\n",
    "fit5 = model5.fit()\n",
    "\n",
    "# model 6 with ff5 factors\n",
    "model6 = sm.OLS.from_formula('Green_Brown ~ 1 + Mkt_RF + SMB + HML + RMW + CMA', data=green_brown_2)\n",
    "fit6 = model6.fit()"
   ]
  },
  {
   "cell_type": "code",
   "execution_count": 6,
   "metadata": {},
   "outputs": [
    {
     "name": "stderr",
     "output_type": "stream",
     "text": [
      "d:\\software_installation\\Python3.11.4\\Lib\\site-packages\\pystout\\pystout.py:377: FutureWarning: The frame.append method is deprecated and will be removed from pandas in a future version. Use pandas.concat instead.\n",
      "  options = options.append(pd.DataFrame([r],index=[value]))\n",
      "d:\\software_installation\\Python3.11.4\\Lib\\site-packages\\pystout\\pystout.py:377: FutureWarning: The frame.append method is deprecated and will be removed from pandas in a future version. Use pandas.concat instead.\n",
      "  options = options.append(pd.DataFrame([r],index=[value]))\n"
     ]
    }
   ],
   "source": [
    "# export the regression result\n",
    "pystout(models=[fit1, fit2, fit3, fit4, fit5, fit6], \n",
    "        file='analysis_result/green-brown1.tex',\n",
    "        varlabels={'const':'Constant','displacement':'Disp','mpg':'MPG'},\n",
    "        stars = {.1:'*',.05:'**',.01:'***'},\n",
    "        digits=3,\n",
    "        modstat={'nobs':'Obs','rsquared':'R-squared'},\n",
    "        mgroups={'CO2 Emission':[1,3], 'Intensity': [4,6]},\n",
    "        addnotes=['* p\\sym{<}.1, ** p\\sym{<}.05, *** p\\sym{<}.01'],\n",
    "        title='Green - Brown Based on Total CO2 Emissions',\n",
    "        label='green-brown1')"
   ]
  },
  {
   "cell_type": "markdown",
   "metadata": {},
   "source": [
    "### 1.2 With Climate Concern Index"
   ]
  },
  {
   "cell_type": "code",
   "execution_count": 7,
   "metadata": {},
   "outputs": [],
   "source": [
    "index_ = pd.read_csv('data/raw_data/index.csv')\n",
    "index_['year_month'] = pd.PeriodIndex(index_.year_month, freq='M').astype(str)\n",
    "\n",
    "# shift columns\n",
    "col_shift = ['Mkt_RF', 'SMB', 'HML', 'RMW', 'CMA', 'sent', 'wti', 'CFNAI', 'vix']\n",
    "index_[col_shift] = index_[col_shift].shift(1)\n",
    "\n",
    "index_['mccc_lag1'] = index_.mccc.shift(1)\n",
    "\n",
    "# drop nas\n",
    "index_.dropna(inplace=True)\n",
    "\n",
    "# use ARC model to get umc\n",
    "arx_model = sm.OLS.from_formula('mccc ~ 1 + mccc_lag1 + Mkt_RF + SMB + HML + RMW + CMA + sent + wti + CFNAI + vix', data=index_)\n",
    "arx_fit = arx_model.fit()\n",
    "\n",
    "index_['umc'] = index_.mccc - arx_fit.predict()\n",
    "\n",
    "index_ = index_[['year_month', 'umc']]\n",
    "\n",
    "# merge\n",
    "umc_merged = pd.merge(index_, green_brown_1, how='right')"
   ]
  },
  {
   "cell_type": "code",
   "execution_count": 8,
   "metadata": {},
   "outputs": [],
   "source": [
    "# Green - Brown\n",
    "model1 = sm.OLS.from_formula('Green_Brown ~ 1 + umc + Mkt_RF + SMB + HML + RMW + CMA + sent + wti + CFNAI + vix', data=umc_merged)\n",
    "fit1 = model1.fit()\n",
    "\n",
    "# Green\n",
    "model2 = sm.OLS.from_formula('Green ~ 1 + umc + Mkt_RF + SMB + HML + RMW + CMA + sent + wti + CFNAI + vix', data=umc_merged)\n",
    "fit2 = model2.fit()\n",
    "\n",
    "# Green\n",
    "model3 = sm.OLS.from_formula('Brown ~ 1 + umc + Mkt_RF + SMB + HML + RMW + CMA + sent + wti + CFNAI + vix', data=umc_merged)\n",
    "fit3 = model3.fit()\n",
    "\n",
    "# Neutral\n",
    "model4 = sm.OLS.from_formula('netural_1 ~ 1 + umc + Mkt_RF + SMB + HML + RMW + CMA + sent + wti + CFNAI + vix', data=umc_merged)\n",
    "fit4 = model4.fit()"
   ]
  },
  {
   "cell_type": "code",
   "execution_count": 9,
   "metadata": {},
   "outputs": [
    {
     "name": "stderr",
     "output_type": "stream",
     "text": [
      "d:\\software_installation\\Python3.11.4\\Lib\\site-packages\\pystout\\pystout.py:377: FutureWarning: The frame.append method is deprecated and will be removed from pandas in a future version. Use pandas.concat instead.\n",
      "  options = options.append(pd.DataFrame([r],index=[value]))\n",
      "d:\\software_installation\\Python3.11.4\\Lib\\site-packages\\pystout\\pystout.py:377: FutureWarning: The frame.append method is deprecated and will be removed from pandas in a future version. Use pandas.concat instead.\n",
      "  options = options.append(pd.DataFrame([r],index=[value]))\n"
     ]
    }
   ],
   "source": [
    "# export the regression result\n",
    "pystout(models=[fit1, fit2, fit3, fit4], \n",
    "        file='analysis_result/on_umc.tex',\n",
    "        varlabels={'const':'Constant','displacement':'Disp','mpg':'MPG'},\n",
    "        stars = {.1:'*',.05:'**',.01:'***'},\n",
    "        digits=3,\n",
    "        modstat={'nobs':'Obs','rsquared':'R-squared'},\n",
    "        addnotes=['* p\\sym{<}.1, ** p\\sym{<}.05, *** p\\sym{<}.01'],\n",
    "        title='Green - Brown on UMC',\n",
    "        label='tab: on_umc')"
   ]
  },
  {
   "cell_type": "markdown",
   "metadata": {},
   "source": [
    "## 2. Firm level analysis"
   ]
  },
  {
   "cell_type": "code",
   "execution_count": 10,
   "metadata": {},
   "outputs": [],
   "source": [
    "# model with industry + time F.E.\n",
    "# un restricted model\n",
    "data = df[['PERMNO', 'year_month', 'year', 'industry', 'RET', 'Co2_tot']].dropna()\n",
    "\n",
    "data['year_month'] = pd.to_datetime(data['year_month'], format='%Y-%m')\n",
    "data = data.set_index(['PERMNO', 'year_month'], drop=False)\n",
    "\n",
    "dependent = data.RET\n",
    "exog = sm.add_constant(data['Co2_tot'])\n",
    "\n",
    "model1 = PanelOLS(dependent, exog, entity_effects=False, time_effects=True, other_effects=data['industry'])\n",
    "fit1 = model1.fit(cov_type='clustered', cluster_entity=False, cluster_time=False, clusters=data[['industry', 'year_month']], low_memory=True)\n",
    "\n",
    "# restricted model\n",
    "data = df[['PERMNO', 'year_month', 'year', 'industry', 'RET', 'Co2_tot', 'Size' , 'Levarage', 'B/M', 'RoE', 'Inves/AT', 'PPE', 'SaleGR', 'EPS', 'Staff_num', 'Firm_age']].dropna()\n",
    "\n",
    "data['year_month'] = pd.to_datetime(data['year_month'], format='%Y-%m')\n",
    "data = data.set_index(['PERMNO', 'year_month'], drop=False)\n",
    "\n",
    "dependent = data.RET\n",
    "exog = sm.add_constant(data[['Co2_tot', 'Size' , 'Levarage', 'B/M', 'RoE', 'Inves/AT', 'PPE', 'SaleGR', 'EPS', 'Staff_num', 'Firm_age']])\n",
    "\n",
    "model2 = PanelOLS(dependent, exog, entity_effects=False, time_effects=True, other_effects=data['industry'])\n",
    "fit2 = model2.fit(cov_type='clustered', cluster_entity=False, cluster_time=False, clusters=data[['industry', 'year_month']], low_memory=True)"
   ]
  },
  {
   "cell_type": "code",
   "execution_count": 11,
   "metadata": {},
   "outputs": [],
   "source": [
    "# model with firm + time F.E.\n",
    "# un restricted model\n",
    "data = df[['PERMNO', 'year_month', 'year', 'industry', 'RET', 'Co2_tot']].dropna()\n",
    "\n",
    "data['year_month'] = pd.to_datetime(data['year_month'], format='%Y-%m')\n",
    "data = data.set_index(['PERMNO', 'year_month'], drop=False)\n",
    "\n",
    "dependent = data.RET\n",
    "exog = sm.add_constant(data['Co2_tot'])\n",
    "\n",
    "model3 = PanelOLS(dependent, exog, entity_effects=True, time_effects=True, other_effects=None)\n",
    "fit3 = model3.fit(cov_type='clustered', cluster_entity=True, cluster_time=True, clusters=None, low_memory=True)\n",
    "\n",
    "# restricted model\n",
    "data = df[['PERMNO', 'year_month', 'year', 'industry', 'RET', 'Co2_tot', 'Size' , 'Levarage', 'B/M', 'RoE', 'Inves/AT', 'PPE', 'SaleGR', 'EPS', 'Staff_num', 'Firm_age']].dropna()\n",
    "\n",
    "data['year_month'] = pd.to_datetime(data['year_month'], format='%Y-%m')\n",
    "data = data.set_index(['PERMNO', 'year_month'], drop=False)\n",
    "\n",
    "dependent = data.RET\n",
    "exog = sm.add_constant(data[['Co2_tot', 'Size' , 'Levarage', 'B/M', 'RoE', 'Inves/AT', 'PPE', 'SaleGR', 'EPS', 'Staff_num', 'Firm_age']])\n",
    "\n",
    "model4 = PanelOLS(dependent, exog, entity_effects=True, time_effects=True, other_effects=None)\n",
    "fit4 = model4.fit(cov_type='clustered', cluster_entity=True, cluster_time=True, clusters=None, low_memory=True)"
   ]
  },
  {
   "cell_type": "code",
   "execution_count": 12,
   "metadata": {},
   "outputs": [
    {
     "name": "stderr",
     "output_type": "stream",
     "text": [
      "d:\\software_installation\\Python3.11.4\\Lib\\site-packages\\pystout\\pystout.py:377: FutureWarning: The frame.append method is deprecated and will be removed from pandas in a future version. Use pandas.concat instead.\n",
      "  options = options.append(pd.DataFrame([r],index=[value]))\n",
      "d:\\software_installation\\Python3.11.4\\Lib\\site-packages\\pystout\\pystout.py:377: FutureWarning: The frame.append method is deprecated and will be removed from pandas in a future version. Use pandas.concat instead.\n",
      "  options = options.append(pd.DataFrame([r],index=[value]))\n"
     ]
    }
   ],
   "source": [
    "# export the regression result\n",
    "pystout(models=[fit1, fit2, fit3, fit4], \n",
    "        file='analysis_result/firm_level.tex',\n",
    "        varlabels={'const':'Constant','displacement':'Disp','mpg':'MPG'},\n",
    "        stars = {.1:'*',.05:'**',.01:'***'},\n",
    "        digits=3,\n",
    "        modstat={'nobs':'Obs','rsquared':'R-squared'},\n",
    "        addnotes=['* p\\sym{<}.1, ** p\\sym{<}.05, *** p\\sym{<}.01'],\n",
    "        title='Firm Level Analysis',\n",
    "        label='tab: firm_level')"
   ]
  },
  {
   "cell_type": "markdown",
   "metadata": {},
   "source": [
    "### 2.2 Change Fixed effects and cluster standard errors"
   ]
  },
  {
   "cell_type": "code",
   "execution_count": 13,
   "metadata": {},
   "outputs": [],
   "source": [
    "data = df[['PERMNO', 'year_month', 'year', 'industry', 'RET', 'Co2_tot', 'Size' , 'Levarage', 'B/M', 'RoE', 'Inves/AT', 'PPE', 'SaleGR', 'EPS', 'Staff_num', 'Firm_age']].dropna()\n",
    "\n",
    "data['year_month'] = pd.to_datetime(data['year_month'], format='%Y-%m')\n",
    "data = data.set_index(['PERMNO', 'year_month'], drop=False)\n",
    "\n",
    "dependent = data.RET\n",
    "exog = sm.add_constant(data[['Co2_tot', 'Size' , 'Levarage', 'B/M', 'RoE', 'Inves/AT', 'PPE', 'SaleGR', 'EPS', 'Staff_num', 'Firm_age']])\n",
    "\n",
    "# 1. benchmark model\n",
    "model1 = PanelOLS(dependent, exog, entity_effects=False, time_effects=False, other_effects=data[['PERMNO', 'year_month']])\n",
    "fit1 = model1.fit(cov_type='clustered', cluster_entity=False, cluster_time=False, clusters=data[['PERMNO', 'year_month']], low_memory=True)\n",
    "\n",
    "# 2. only entity fixed effects\n",
    "model2 = PanelOLS(dependent, exog, entity_effects=False, time_effects=False, other_effects=data[['PERMNO']])\n",
    "fit2 = model2.fit(cov_type='clustered', cluster_entity=False, cluster_time=False, clusters=data[['PERMNO']], low_memory=True)\n",
    "\n",
    "# 3. entity + year fixed effects\n",
    "model3 = PanelOLS(dependent, exog, entity_effects=False, time_effects=False, other_effects=data[['PERMNO', 'year']])\n",
    "fit3 = model3.fit(cov_type='clustered', cluster_entity=False, cluster_time=False, clusters=data[['PERMNO', 'year']], low_memory=True)\n",
    "\n",
    "# 4. industry fixed effects\n",
    "model4 = PanelOLS(dependent, exog, entity_effects=False, time_effects=False, other_effects=data['industry'])\n",
    "fit4 = model4.fit(cov_type='clustered', cluster_entity=False, cluster_time=False, clusters=data['industry'], low_memory=True)\n",
    "\n",
    "# 5. industry + year_month fixed effects\n",
    "model5 = PanelOLS(dependent, exog, entity_effects=False, time_effects=False, other_effects=data[['industry', 'year_month']])\n",
    "fit5 = model5.fit(cov_type='clustered', cluster_entity=False, cluster_time=False, clusters=data[['industry', 'year_month']], low_memory=True)\n",
    "\n",
    "# 6. industry + year fixed effects\n",
    "model6 = PanelOLS(dependent, exog, entity_effects=False, time_effects=False, other_effects=data[['industry', 'year']])\n",
    "fit6 = model6.fit(cov_type='clustered', cluster_entity=False, cluster_time=False, clusters=data[['industry', 'year']], low_memory=True)\n",
    "\n",
    "#########################################################\n",
    "# 7. benchmark model + robust standard errors\n",
    "model7 = PanelOLS(dependent, exog, entity_effects=False, time_effects=False, other_effects=data[['PERMNO', 'year_month']])\n",
    "fit7 = model7.fit()\n",
    "\n",
    "# 8. benchmark model + cluster higher level \n",
    "model8 = PanelOLS(dependent, exog, entity_effects=False, time_effects=False, other_effects=data[['PERMNO', 'year_month']])\n",
    "fit8 = model8.fit(cov_type='clustered', cluster_entity=False, cluster_time=False, clusters=data[['industry', 'year']], low_memory=True)"
   ]
  },
  {
   "cell_type": "code",
   "execution_count": 14,
   "metadata": {},
   "outputs": [],
   "source": [
    "results = []  # Initialize an empty list named 'results'\n",
    "\n",
    "# Append the regression results strings to the 'results' list\n",
    "results.append(fit1)\n",
    "results.append(fit2)\n",
    "results.append(fit3)\n",
    "results.append(fit4)\n",
    "results.append(fit5)\n",
    "results.append(fit6)\n",
    "results.append(fit7)\n",
    "results.append(fit8)"
   ]
  },
  {
   "cell_type": "code",
   "execution_count": 15,
   "metadata": {},
   "outputs": [],
   "source": [
    "temp = pd.DataFrame({'r': [results[i].params['Co2_tot'] for i in range(0,8)],\n",
    "                    'p-val': [round(results[i].pvalues['Co2_tot'], 3) for i in range(0,8)],\n",
    "                    'hl': [results[i].conf_int().iloc[1,1] for i in range(0,8)],\n",
    "                    'll': [results[i].conf_int().iloc[1,0] for i in range(0,8)],\n",
    "                    'std': [round(results[i].std_errors['Co2_tot'],3) for i in range(0,8)],\n",
    "                    'power': [round(results[i].rsquared, 3) for i in range(0,8)],\n",
    "                    'label': ['1. Benchmark model', '2. Entity F.E.', '3. Entity + Year F.E.', '4. Industry F.E.', '5. Industry + Year/Mon F.E.', '6. Industry +  Year F.E.', '7. Robust Standard Errors', '8. Industry + Year'],\n",
    "                    'var': ['1. Benchmark model', '2. Entity F.E.', '3. Entity + Year F.E.', '4. Industry F.E.', '5. Industry + Year/Mon F.E.', '6. Industry +  Year F.E.', '7. Robust Standard Errors', '8. Industry + Year'],\n",
    "                    'group': ['Benchmark', 'Fixed effects', 'Fixed effects', 'Fixed effects', 'Fixed effects', 'Fixed effects', 'Clustered standard errors', 'Clustered standard errors'],\n",
    "                    'n': [(results[i].nobs) for i in range(0,8)]})"
   ]
  },
  {
   "cell_type": "code",
   "execution_count": 16,
   "metadata": {},
   "outputs": [
    {
     "data": {
      "text/plain": [
       "<Axes: xlabel='Regression coefficient'>"
      ]
     },
     "execution_count": 16,
     "metadata": {},
     "output_type": "execute_result"
    },
    {
     "data": {
      "image/png": "[encoded data removed]",
      "text/plain": [
       "<Figure size 288x576 with 1 Axes>"
      ]
     },
     "metadata": {},
     "output_type": "display_data"
    }
   ],
   "source": [
    "import forestplot as fp\n",
    "fp.forestplot(temp,  # the dataframe with results data\n",
    "              estimate=\"r\",  # col containing estimated effect size \n",
    "              ll=\"ll\", hl=\"hl\",  # lower & higher limits of conf. int.\n",
    "              varlabel=\"label\",  # column containing the varlabels to be printed on far left\n",
    "              pval=\"p-val\",  # column containing p-values to be formatted\n",
    "              annote=['n', 'power', \"formatted_pval\"],  # columns to report on left of plot\n",
    "              annoteheaders=['No. Obs', 'R-squared', \"P-value\"],  # ^corresponding headers\n",
    "              rightannote=[\"est_ci\"],  # columns to report on right of plot \n",
    "              right_annoteheaders=[\"Est. (95% Conf. Int.)\"],  # ^corresponding headers\n",
    "              groupvar=\"group\",  # column containing group labels\n",
    "              group_order=[\"Benchmark\", \"Fixed effects\", \"Clustered standard errors\"],                   \n",
    "              xlabel=\"Regression coefficient\",  # x-label title\n",
    "              xticks=[-1, -0.8, -0.6, -0.4, -0.2, 0, .2],  # x-ticks to be printed\n",
    "              sort=False,  # sort estimates in ascending order\n",
    "              color_alt_rows=True,  # Gray alternate rows\n",
    "              table=True,  # Format as a table\n",
    "              # Additional kwargs for customizations\n",
    "              **{'fontfamily': 'monospace', # only font that align\n",
    "                 \"marker\": \"D\",\n",
    "                 \"markersize\": 50,  # adjust marker size\n",
    "                 \"xlinestyle\": (0, (10, 5)),  # long dash for x-reference line \n",
    "                 \"xlinecolor\": \"firebrick\",  # color for x-reference line\n",
    "                 \"xtick_size\": 12,  # adjust x-ticker fontsize\n",
    "                 'linecolor': 'gray', # error bar line color\n",
    "                 'lw': 3, # error bar line width\n",
    "                 'xlinestyle': 'dashdot', # vertical line change\n",
    "                 'xlinewidth': 1\n",
    "                }  \n",
    "              )"
   ]
  },
  {
   "cell_type": "markdown",
   "metadata": {},
   "source": [
    "### 2.3 Interplay with climate concerns"
   ]
  },
  {
   "cell_type": "code",
   "execution_count": 17,
   "metadata": {},
   "outputs": [],
   "source": [
    "# merge with UMC data\n",
    "df = df.merge(index_, how='left')\n",
    "\n",
    "# load data\n",
    "index_all = pd.read_csv('data/raw_data/index.csv')\n",
    "index_all['year_month'] = pd.PeriodIndex(index_all.year_month, freq='M').astype(str)\n",
    "\n",
    "# merge data\n",
    "df = pd.merge(df, index_all, how='inner')"
   ]
  },
  {
   "cell_type": "code",
   "execution_count": 18,
   "metadata": {},
   "outputs": [],
   "source": [
    "# with market factor model\n",
    "data = df[['PERMNO', 'year_month', 'year', 'RET', 'umc', 'Mkt_RF', 'Co2_tot', 'Size' , 'Levarage', 'B/M', 'RoE', 'Inves/AT', 'PPE', 'SaleGR', 'EPS', 'Staff_num', 'Firm_age']].dropna()\n",
    "\n",
    "data['year_month'] = pd.to_datetime(data['year_month'], format='%Y-%m')\n",
    "data = data.set_index(['PERMNO', 'year_month'], drop=False)\n",
    "data['intersection'] = data.Co2_tot * data.umc\n",
    "\n",
    "dependent = data.RET\n",
    "exog = sm.add_constant(data[['Co2_tot', 'umc', 'intersection', 'Mkt_RF', 'Size' , 'Levarage', 'B/M', 'RoE', 'Inves/AT', 'PPE', 'SaleGR', 'EPS', 'Staff_num', 'Firm_age']])\n",
    "\n",
    "model1 = PanelOLS(dependent, exog, entity_effects=False, time_effects=False, other_effects=data[['PERMNO']])\n",
    "fit1 = model1.fit(cov_type='clustered', cluster_entity=False, cluster_time=False, clusters=data[['PERMNO']], low_memory=True)\n",
    "\n",
    "# with FF 3 factors model\n",
    "data = df[['PERMNO', 'year_month', 'year', 'RET', 'umc', 'Mkt_RF', 'SMB', 'HML', 'Co2_tot', 'Size' , 'Levarage', 'B/M', 'RoE', 'Inves/AT', 'PPE', 'SaleGR', 'EPS', 'Staff_num', 'Firm_age']].dropna()\n",
    "\n",
    "data['year_month'] = pd.to_datetime(data['year_month'], format='%Y-%m')\n",
    "data = data.set_index(['PERMNO', 'year_month'], drop=False)\n",
    "data['intersection'] = data.Co2_tot * data.umc\n",
    "\n",
    "dependent = data.RET\n",
    "exog = sm.add_constant(data[['Co2_tot', 'umc', 'intersection', 'Mkt_RF', 'SMB', 'HML', 'Size' , 'Levarage', 'B/M', 'RoE', 'Inves/AT', 'PPE', 'SaleGR', 'EPS', 'Staff_num', 'Firm_age']])\n",
    "\n",
    "model2 = PanelOLS(dependent, exog, entity_effects=False, time_effects=False, other_effects=data[['PERMNO']])\n",
    "fit2 = model2.fit(cov_type='clustered', cluster_entity=False, cluster_time=False, clusters=data[['PERMNO']], low_memory=True)\n",
    "\n",
    "# with FF 5 factors model\n",
    "data = df[['PERMNO', 'year_month', 'year', 'RET', 'umc', 'Mkt_RF', 'SMB', 'HML', 'RMW', 'CMA', 'Co2_tot', 'Size' , 'Levarage', 'B/M', 'RoE', 'Inves/AT', 'PPE', 'SaleGR', 'EPS', 'Staff_num', 'Firm_age']].dropna()\n",
    "\n",
    "data['year_month'] = pd.to_datetime(data['year_month'], format='%Y-%m')\n",
    "data = data.set_index(['PERMNO', 'year_month'], drop=False)\n",
    "data['intersection'] = data.Co2_tot * data.umc\n",
    "\n",
    "dependent = data.RET\n",
    "exog = sm.add_constant(data[['Co2_tot', 'umc', 'intersection', 'Mkt_RF', 'SMB', 'HML', 'RMW', 'CMA', 'Size' , 'Levarage', 'B/M', 'RoE', 'Inves/AT', 'PPE', 'SaleGR', 'EPS', 'Staff_num', 'Firm_age']])\n",
    "\n",
    "model3 = PanelOLS(dependent, exog, entity_effects=False, time_effects=False, other_effects=data[['PERMNO']])\n",
    "fit3 = model3.fit(cov_type='clustered', cluster_entity=False, cluster_time=False, clusters=data[['PERMNO']], low_memory=True)\n",
    "\n",
    "# with FF 5 factors and other indicators\n",
    "data = df[['PERMNO', 'year_month', 'year', 'RET', 'umc', 'Mkt_RF', 'SMB', 'HML', 'RMW', 'CMA', 'sent', 'wti', 'CFNAI', 'vix', 'Co2_tot', 'Size' , 'Levarage', 'B/M', 'RoE', 'Inves/AT', 'PPE', 'SaleGR', 'EPS', 'Staff_num', 'Firm_age']].dropna()\n",
    "\n",
    "data['year_month'] = pd.to_datetime(data['year_month'], format='%Y-%m')\n",
    "data = data.set_index(['PERMNO', 'year_month'], drop=False)\n",
    "data['intersection'] = data.Co2_tot * data.umc\n",
    "\n",
    "dependent = data.RET\n",
    "exog = sm.add_constant(data[['Co2_tot', 'umc', 'intersection', 'Mkt_RF', 'SMB', 'HML', 'RMW', 'CMA', 'sent', 'wti', 'CFNAI', 'vix', 'Size' , 'Levarage', 'B/M', 'RoE', 'Inves/AT', 'PPE', 'SaleGR', 'EPS', 'Staff_num', 'Firm_age']])\n",
    "\n",
    "model4 = PanelOLS(dependent, exog, entity_effects=False, time_effects=False, other_effects=data[['PERMNO']])\n",
    "fit4 = model4.fit(cov_type='clustered', cluster_entity=False, cluster_time=False, clusters=data[['PERMNO']], low_memory=True)"
   ]
  },
  {
   "cell_type": "code",
   "execution_count": 19,
   "metadata": {},
   "outputs": [],
   "source": [
    "# export the regression result\n",
    "pystout(models=[fit1, fit2, fit3, fit4], \n",
    "        file='analysis_result/firm_umc.tex',\n",
    "        varlabels={'const':'Constant','displacement':'Disp','mpg':'MPG'},\n",
    "        stars = {.1:'*',.05:'**',.01:'***'},\n",
    "        digits=3,\n",
    "        modstat={'nobs':'Obs','rsquared':'R-squared'},\n",
    "        addnotes=['* p\\sym{<}.1, ** p\\sym{<}.05, *** p\\sym{<}.01'],\n",
    "        title='Cross-section Stock Return with UMC',\n",
    "        label='tab: firm_umc')"
   ]
  },
  {
   "cell_type": "markdown",
   "metadata": {},
   "source": [
    "## Green-Brown Premium In Different Time Periods"
   ]
  },
  {
   "cell_type": "code",
   "execution_count": null,
   "metadata": {},
   "outputs": [],
   "source": [
    "# Assuming 'year_month' is a string column containing dates in the format 'yyyy-mm-dd'\n",
    "green_brown_1['year_month'] = pd.to_datetime(green_brown_1['year_month'])\n",
    "\n",
    "# Now, you can extract the year\n",
    "green_brown_1['year'] = green_brown_1['year_month'].dt.year"
   ]
  }
 ],
 "metadata": {
  "kernelspec": {
   "display_name": "Python 3",
   "language": "python",
   "name": "python3"
  },
  "language_info": {
   "codemirror_mode": {
    "name": "ipython",
    "version": 3
   },
   "file_extension": ".py",
   "mimetype": "text/x-python",
   "name": "python",
   "nbconvert_exporter": "python",
   "pygments_lexer": "ipython3",
   "version": "3.11.4"
  },
  "orig_nbformat": 4
 },
 "nbformat": 4,
 "nbformat_minor": 2
}
